{
 "cells": [
  {
   "cell_type": "code",
   "execution_count": 1,
   "metadata": {},
   "outputs": [],
   "source": [
    "# Dataset\n",
    "import torch\n",
    "import os\n",
    "from torch.utils.data import Dataset\n",
    "\n",
    "import matplotlib.pyplot as plt\n",
    "import numpy as np\n",
    "from pathlib import Path\n",
    "import scipy as sp\n",
    "train_dir = Path(r'C:\\Users\\sebas\\Documents\\MATLAB\\DataProCiencia\\DeepLearning\\train')\n"
   ]
  },
  {
   "cell_type": "markdown",
   "metadata": {},
   "source": [
    "# Final version of dataset"
   ]
  },
  {
   "cell_type": "code",
   "execution_count": 2,
   "metadata": {},
   "outputs": [],
   "source": [
    "class CustomDataset(Dataset):\n",
    "    def __init__(self, data_folder):\n",
    "        data_folder = Path(data_folder)\n",
    "        self.input_folder = data_folder/'input'\n",
    "        self.output_folder = data_folder/'output'\n",
    "        self.data_file_list = sorted(os.listdir(self.input_folder))\n",
    "\n",
    "    def __len__(self):\n",
    "        return len(self.data_file_list)\n",
    "\n",
    "    def __getitem__(self, idx):\n",
    "        input_path = os.path.join(self.input_folder, self.data_file_list[idx])\n",
    "        output_path = os.path.join(self.output_folder, self.data_file_list[idx])\n",
    "        sld = np.load(input_path)\n",
    "        att_ideal = np.load(output_path)\n",
    "\n",
    "        return torch.Tensor(sld), torch.Tensor(att_ideal).unsqueeze(0)"
   ]
  },
  {
   "cell_type": "code",
   "execution_count": 3,
   "metadata": {},
   "outputs": [
    {
     "data": {
      "text/plain": [
       "1"
      ]
     },
     "execution_count": 3,
     "metadata": {},
     "output_type": "execute_result"
    }
   ],
   "source": [
    "from torch.utils.data import DataLoader\n",
    "\n",
    "dataset = CustomDataset(train_dir)\n",
    "dataloader = DataLoader(dataset=dataset, batch_size=6, shuffle=True)\n",
    "\n",
    "x,y = next(iter(dataloader))\n",
    "len(dataloader)"
   ]
  },
  {
   "cell_type": "code",
   "execution_count": 4,
   "metadata": {},
   "outputs": [
    {
     "name": "stdout",
     "output_type": "stream",
     "text": [
      "Mean: 0.12298509478569031, std: 1.5836615562438965\n"
     ]
    },
    {
     "data": {
      "text/plain": [
       "[]"
      ]
     },
     "execution_count": 4,
     "metadata": {},
     "output_type": "execute_result"
    },
    {
     "data": {
      "image/png": "[encoded data removed]",
      "text/plain": [
       "<Figure size 640x480 with 1 Axes>"
      ]
     },
     "metadata": {},
     "output_type": "display_data"
    }
   ],
   "source": [
    "data_vec = x.numpy().flatten()\n",
    "print(f\"Mean: {data_vec.mean()}, std: {data_vec.std()}\")\n",
    "plt.hist(data_vec,50)\n",
    "plt.plot()"
   ]
  },
  {
   "cell_type": "code",
   "execution_count": 5,
   "metadata": {},
   "outputs": [],
   "source": [
    "from torchvision import transforms\n",
    "class CustomDataset(Dataset):\n",
    "    def __init__(self, data_folder):\n",
    "        data_folder = Path(data_folder)\n",
    "        self.input_folder = data_folder/'input'\n",
    "        self.output_folder = data_folder/'output'\n",
    "        self.data_file_list = sorted(os.listdir(self.input_folder))\n",
    "\n",
    "    def __len__(self):\n",
    "        return len(self.data_file_list)\n",
    "\n",
    "    def __getitem__(self, idx):\n",
    "        input_path = os.path.join(self.input_folder, self.data_file_list[idx])\n",
    "        output_path = os.path.join(self.output_folder, self.data_file_list[idx])\n",
    "        sld = np.load(input_path)\n",
    "        att_ideal = np.expand_dims(np.load(output_path),axis=0)\n",
    "\n",
    "        input_transforms = transforms.Compose([\n",
    "            torch.Tensor,\n",
    "            transforms.Normalize(0,1.5)\n",
    "        ])\n",
    "\n",
    "        output_transforms = transforms.Compose([\n",
    "            torch.Tensor,\n",
    "            transforms.Normalize(1,1)\n",
    "        ])\n",
    "\n",
    "        x = input_transforms(sld)\n",
    "        y = output_transforms(att_ideal)\n",
    "\n",
    "        return x,y"
   ]
  },
  {
   "cell_type": "code",
   "execution_count": 6,
   "metadata": {},
   "outputs": [],
   "source": [
    "from torch.utils.data import DataLoader\n",
    "\n",
    "dataset = CustomDataset(train_dir)\n",
    "dataloader = DataLoader(dataset=dataset, batch_size=6, shuffle=True)\n",
    "\n",
    "x,y = next(iter(dataloader))"
   ]
  },
  {
   "cell_type": "code",
   "execution_count": 7,
   "metadata": {},
   "outputs": [
    {
     "name": "stdout",
     "output_type": "stream",
     "text": [
      "Mean: 0.08198999613523483, std: 1.0557740926742554\n"
     ]
    },
    {
     "data": {
      "text/plain": [
       "[]"
      ]
     },
     "execution_count": 7,
     "metadata": {},
     "output_type": "execute_result"
    },
    {
     "data": {
      "image/png": "[encoded data removed]",
      "text/plain": [
       "<Figure size 640x480 with 1 Axes>"
      ]
     },
     "metadata": {},
     "output_type": "display_data"
    }
   ],
   "source": [
    "data_vec = x.numpy().flatten()\n",
    "print(f\"Mean: {data_vec.mean()}, std: {data_vec.std()}\")\n",
    "plt.hist(data_vec,50)\n",
    "plt.plot()"
   ]
  },
  {
   "cell_type": "code",
   "execution_count": null,
   "metadata": {},
   "outputs": [],
   "source": []
  },
  {
   "cell_type": "markdown",
   "metadata": {},
   "source": [
    "# Arquitecture"
   ]
  },
  {
   "cell_type": "code",
   "execution_count": 30,
   "metadata": {},
   "outputs": [],
   "source": [
    "import math\n",
    "import torch\n",
    "import torch.nn as nn\n",
    "from modules.nn import *\n",
    "\n",
    "# PositionalEncoding Source： https://github.com/lmnt-com/wavegrad/blob/master/src/wavegrad/model.py\n",
    "class PositionalEncoding(nn.Module):\n",
    "    def __init__(self, dim):\n",
    "        super().__init__()\n",
    "        self.dim = dim\n",
    "\n",
    "    def forward(self, noise_level):\n",
    "        count = self.dim // 2\n",
    "        step = torch.arange(count, dtype=noise_level.dtype, device=noise_level.device) / count\n",
    "        encoding = noise_level.unsqueeze(1) * torch.exp(-math.log(1e4) * step.unsqueeze(0))\n",
    "        encoding = torch.cat([torch.sin(encoding), torch.cos(encoding)], dim=-1)\n",
    "        return encoding\n",
    "\n",
    "\n",
    "class ResBlock(nn.Module):\n",
    "    \"\"\"\n",
    "    A residual block that can optionally change the number of channels.\n",
    "\n",
    "    :param channels: the number of input channels.\n",
    "    :param emb_channels: the number of timestep embedding channels.\n",
    "    :param dropout: the rate of dropout.\n",
    "    :param out_channels: if specified, the number of out channels.\n",
    "    :param use_conv: if True and out_channels is specified, use a spatial\n",
    "        convolution instead of a smaller 1x1 convolution to change the\n",
    "        channels in the skip connection.\n",
    "    :param dims: determines if the signal is 1D, 2D, or 3D.\n",
    "    :param use_checkpoint: if True, use gradient checkpointing on this module.\n",
    "    \"\"\"\n",
    "\n",
    "    def __init__(\n",
    "        self,\n",
    "        channels,\n",
    "        emb_channels,\n",
    "        dropout,\n",
    "        out_channels=None,\n",
    "        use_conv=False,\n",
    "        use_scale_shift_norm=False,\n",
    "        dims=2,\n",
    "        use_checkpoint=False,\n",
    "        residual = True,\n",
    "        group_norm = True\n",
    "    ):\n",
    "        super().__init__()\n",
    "        self.channels = channels\n",
    "        self.emb_channels = emb_channels\n",
    "        self.dropout = dropout\n",
    "        self.out_channels = out_channels\n",
    "        self.use_conv = use_conv\n",
    "        self.residual = residual\n",
    "        self.use_checkpoint = use_checkpoint\n",
    "        self.use_scale_shift_norm = use_scale_shift_norm\n",
    "\n",
    "        self.in_layers = nn.Sequential(\n",
    "            normalization(channels, group_norm),\n",
    "            SiLU(),\n",
    "            conv_nd(dims, channels, self.out_channels, 3, padding=1),\n",
    "        )\n",
    "        self.emb_layers = nn.Sequential(\n",
    "            SiLU(),\n",
    "            linear(\n",
    "                emb_channels,\n",
    "                2 * self.out_channels if use_scale_shift_norm else self.out_channels,\n",
    "            ),\n",
    "        )\n",
    "        self.out_layers = nn.Sequential(\n",
    "            normalization(self.out_channels, group_norm),\n",
    "            SiLU(),\n",
    "            nn.Dropout(p=dropout),\n",
    "            zero_module(\n",
    "                conv_nd(dims, self.out_channels, self.out_channels, 3, padding=1)\n",
    "            ),\n",
    "        )\n",
    "\n",
    "        if residual:\n",
    "            if self.out_channels == channels:\n",
    "                self.skip_connection = nn.Identity()\n",
    "            elif use_conv:\n",
    "                self.skip_connection = conv_nd(\n",
    "                    dims, channels, self.out_channels, 3, padding=1\n",
    "                )\n",
    "            else:\n",
    "                self.skip_connection = conv_nd(dims, channels, self.out_channels, 1)\n",
    "        else:\n",
    "            self.skip_connection = None\n",
    "\n",
    "    def forward(self, x, emb):\n",
    "        \"\"\"\n",
    "        Apply the block to a Tensor, conditioned on a timestep embedding.\n",
    "\n",
    "        :param x: an [N x C x ...] Tensor of features.\n",
    "        :param emb: an [N x emb_channels] Tensor of timestep embeddings.\n",
    "        :return: an [N x C x ...] Tensor of outputs.\n",
    "        \"\"\"\n",
    "        return checkpoint(\n",
    "            self._forward, (x, emb), self.parameters(), self.use_checkpoint\n",
    "        )\n",
    "\n",
    "    def _forward(self, x, emb):\n",
    "        h = self.in_layers(x)\n",
    "        emb_out = self.emb_layers(emb).type(h.dtype)\n",
    "        while len(emb_out.shape) < len(h.shape):\n",
    "            emb_out = emb_out[..., None]\n",
    "        if self.use_scale_shift_norm:\n",
    "            out_norm, out_rest = self.out_layers[0], self.out_layers[1:]\n",
    "            scale, shift = th.chunk(emb_out, 2, dim=1)\n",
    "            h = out_norm(h) * (1 + scale) + shift\n",
    "            h = out_rest(h)\n",
    "        else:\n",
    "            h = h + emb_out\n",
    "            h = self.out_layers(h)\n",
    "        if self.residual:\n",
    "            h = self.skip_connection(x) + h\n",
    "        return h\n",
    "\n",
    "\n",
    "class AttentionBlock(nn.Module):\n",
    "    \"\"\"\n",
    "    An attention block that allows spatial positions to attend to each other.\n",
    "\n",
    "    Originally ported from here, but adapted to the N-d case.\n",
    "    https://github.com/hojonathanho/diffusion/blob/1e0dceb3b3495bbe19116a5e1b3596cd0706c543/diffusion_tf/models/unet.py#L66.\n",
    "    \"\"\"\n",
    "\n",
    "    def __init__(self, channels, num_heads=1, use_checkpoint=False):\n",
    "        super().__init__()\n",
    "        self.channels = channels\n",
    "        self.num_heads = num_heads\n",
    "        self.use_checkpoint = use_checkpoint\n",
    "\n",
    "        self.norm = normalization(channels)\n",
    "        self.qkv = conv_nd(1, channels, channels * 3, 1)\n",
    "        self.attention = QKVAttention()\n",
    "        self.proj_out = zero_module(conv_nd(1, channels, channels, 1))\n",
    "\n",
    "    def forward(self, x):\n",
    "        return checkpoint(self._forward, (x,), self.parameters(), self.use_checkpoint)\n",
    "\n",
    "    def _forward(self, x):\n",
    "        b, c, *spatial = x.shape\n",
    "        x = x.reshape(b, c, -1)\n",
    "        qkv = self.qkv(self.norm(x))\n",
    "        qkv = qkv.reshape(b * self.num_heads, -1, qkv.shape[2])\n",
    "        h = self.attention(qkv)\n",
    "        h = h.reshape(b, -1, h.shape[-1])\n",
    "        h = self.proj_out(h)\n",
    "        return (x + h).reshape(b, c, *spatial)\n",
    "\n",
    "\n",
    "class QKVAttention(nn.Module):\n",
    "    \"\"\"\n",
    "    A module which performs QKV attention.\n",
    "    \"\"\"\n",
    "\n",
    "    def forward(self, qkv):\n",
    "        \"\"\"\n",
    "        Apply QKV attention.\n",
    "\n",
    "        :param qkv: an [N x (C * 3) x T] tensor of Qs, Ks, and Vs.\n",
    "        :return: an [N x C x T] tensor after attention.\n",
    "        \"\"\"\n",
    "        ch = qkv.shape[1] // 3\n",
    "        q, k, v = th.split(qkv, ch, dim=1)\n",
    "        scale = 1 / math.sqrt(math.sqrt(ch))\n",
    "        weight = th.einsum(\n",
    "            \"bct,bcs->bts\", q * scale, k * scale\n",
    "        )  # More stable with f16 than dividing afterwards\n",
    "        weight = th.softmax(weight.float(), dim=-1).type(weight.dtype)\n",
    "        return th.einsum(\"bts,bcs->bct\", weight, v)"
   ]
  },
  {
   "cell_type": "code",
   "execution_count": 31,
   "metadata": {},
   "outputs": [],
   "source": [
    "class UNETv1(nn.Module):\n",
    "    def __init__(\n",
    "            self, \n",
    "            in_channels=3, \n",
    "            out_channels=1, \n",
    "            features=[64, 128, 256, 512], \n",
    "            emb_dim = 256,\n",
    "            residual = True,\n",
    "            attention_heads = 4,\n",
    "            attention_res = [256,512],\n",
    "            group_norm = True,\n",
    "        ):\n",
    "        super(UNETv1, self).__init__()\n",
    "\n",
    "        self.time_mlp = nn.Sequential(\n",
    "            PositionalEncoding(features[0]),\n",
    "            linear(features[0], emb_dim),\n",
    "            SiLU(),\n",
    "            linear(emb_dim, emb_dim),\n",
    "        )\n",
    "\n",
    "        # Initial convolutional layers\n",
    "        self.initial_conv_x = conv_nd(2, in_channels, features[0], 1)\n",
    "        self.initial_block_x = ResBlock(\n",
    "            channels = features[0],\n",
    "            emb_channels = emb_dim,\n",
    "            dropout = 0,\n",
    "            out_channels = features[0],\n",
    "            use_conv = False,\n",
    "            use_scale_shift_norm = True,\n",
    "            dims = 2,\n",
    "            use_checkpoint = False,\n",
    "            residual=residual,\n",
    "            group_norm=group_norm\n",
    "        )\n",
    "\n",
    "        self.initial_conv_y = conv_nd(2, out_channels, features[0], 1)\n",
    "        self.initial_block_y = ResBlock(\n",
    "            channels = features[0],\n",
    "            emb_channels = emb_dim,\n",
    "            dropout = 0,\n",
    "            out_channels = features[0],\n",
    "            use_conv = False,\n",
    "            use_scale_shift_norm = True,\n",
    "            dims = 2,\n",
    "            use_checkpoint = False,\n",
    "            residual=residual,\n",
    "            group_norm=group_norm\n",
    "        )\n",
    "\n",
    "        # Down part of UNET\n",
    "        self.downBlocks = nn.ModuleList()\n",
    "        self.downAttention = nn.ModuleList()\n",
    "        self.pool = nn.MaxPool2d(kernel_size=2, stride=2)\n",
    "        for feature in features:\n",
    "            self.downBlocks.append(\n",
    "                ResBlock(\n",
    "                    channels = feature,\n",
    "                    emb_channels = emb_dim,\n",
    "                    dropout = 0,\n",
    "                    out_channels = feature*2,\n",
    "                    use_conv = False,\n",
    "                    use_scale_shift_norm = True,\n",
    "                    dims = 2,\n",
    "                    use_checkpoint = False,\n",
    "                    residual=residual,\n",
    "                    group_norm=group_norm\n",
    "                ))\n",
    "            if feature in attention_res:\n",
    "                self.downAttention.append(AttentionBlock(\n",
    "                    feature*2, use_checkpoint=False, num_heads=attention_heads\n",
    "                ))\n",
    "            else:\n",
    "                self.downAttention.append(nn.Identity())                \n",
    "\n",
    "        # Up part of UNET\n",
    "        self.upBlocks = nn.ModuleList()\n",
    "        self.upConvs = nn.ModuleList()\n",
    "        self.upAttention = nn.ModuleList()\n",
    "        for feature in reversed(features):\n",
    "            self.upConvs.append(\n",
    "                nn.ConvTranspose2d(feature * 2, feature, kernel_size=2, stride=2))\n",
    "            self.upBlocks.append(\n",
    "                ResBlock(\n",
    "                    channels = feature * 2,\n",
    "                    emb_channels = emb_dim,\n",
    "                    dropout = 0,\n",
    "                    out_channels = feature,\n",
    "                    use_conv = False,\n",
    "                    use_scale_shift_norm = True,\n",
    "                    dims = 2,\n",
    "                    use_checkpoint = False,\n",
    "                    residual=residual,\n",
    "                    group_norm=group_norm\n",
    "                ))\n",
    "            if feature in attention_res:\n",
    "                self.upAttention.append(AttentionBlock(\n",
    "                    feature, use_checkpoint=False, num_heads=attention_heads\n",
    "                ))\n",
    "            else:\n",
    "                self.upAttention.append(nn.Identity())\n",
    "\n",
    "\n",
    "        self.final_block = nn.Conv2d(features[0], out_channels, kernel_size=1)\n",
    "\n",
    "    def forward(self, x, y, t):\n",
    "        # x: IQ image\n",
    "        # y: Noisy Bmode\n",
    "        time_emb = self.time_mlp(t)\n",
    "\n",
    "        x = self.initial_conv_x(x)\n",
    "        x = self.initial_block_x(x, time_emb)\n",
    "        y = self.initial_conv_y(y)\n",
    "        x = x + self.initial_block_y(y, time_emb)\n",
    "\n",
    "        # Convolutional layers and max-pooling\n",
    "        skip_connections = []\n",
    "        for idx in range(len(self.downBlocks)):\n",
    "            skip_connections.append(x)\n",
    "            x = self.pool(x)\n",
    "            x = self.downBlocks[idx](x, time_emb)\n",
    "            x = self.downAttention[idx](x)\n",
    "\n",
    "        # Convolutional layers and up-sampling\n",
    "        skip_connections = skip_connections[::-1]  # Reversing list\n",
    "        for idx in range(len(self.upBlocks)):\n",
    "            x = self.upConvs[idx](x)  # UpConvolution\n",
    "            concat_skip = torch.cat((skip_connections[idx], x), dim=1)\n",
    "            x = self.upBlocks[idx](concat_skip, time_emb)  # Double convs\n",
    "            x = self.upAttention[idx](x)\n",
    "\n",
    "        return self.final_block(x)\n"
   ]
  },
  {
   "cell_type": "code",
   "execution_count": 27,
   "metadata": {},
   "outputs": [],
   "source": [
    "model = UNETv1(in_channels=80, residual=False, attention_res=[])"
   ]
  },
  {
   "cell_type": "code",
   "execution_count": 29,
   "metadata": {},
   "outputs": [],
   "source": [
    "t = torch.randint(0, 100, (x.shape[0],))\n",
    "noise = torch.randn_like(y)\n",
    "y_pred = model(x,y,t)"
   ]
  },
  {
   "cell_type": "code",
   "execution_count": 16,
   "metadata": {},
   "outputs": [
    {
     "data": {
      "text/plain": [
       "torch.Size([6, 1, 96, 128])"
      ]
     },
     "execution_count": 16,
     "metadata": {},
     "output_type": "execute_result"
    }
   ],
   "source": []
  },
  {
   "cell_type": "code",
   "execution_count": null,
   "metadata": {},
   "outputs": [],
   "source": []
  }
 ],
 "metadata": {
  "kernelspec": {
   "display_name": "Python 3",
   "language": "python",
   "name": "python3"
  },
  "language_info": {
   "codemirror_mode": {
    "name": "ipython",
    "version": 3
   },
   "file_extension": ".py",
   "mimetype": "text/x-python",
   "name": "python",
   "nbconvert_exporter": "python",
   "pygments_lexer": "ipython3",
   "version": "3.11.8"
  }
 },
 "nbformat": 4,
 "nbformat_minor": 2
}
