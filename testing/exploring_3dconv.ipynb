{
 "cells": [
  {
   "cell_type": "code",
   "execution_count": 1,
   "metadata": {
    "ExecuteTime": {
     "end_time": "2024-03-15T20:00:02.237417200Z",
     "start_time": "2024-03-15T20:00:01.159987200Z"
    }
   },
   "outputs": [],
   "source": [
    "import torch\n",
    "from torch import nn\n",
    "import numpy as np\n",
    "from modules.nn import *"
   ]
  },
  {
   "cell_type": "code",
   "execution_count": 2,
   "metadata": {
    "ExecuteTime": {
     "end_time": "2024-03-15T20:00:02.251136600Z",
     "start_time": "2024-03-15T20:00:02.237417200Z"
    }
   },
   "outputs": [],
   "source": [
    "class ResBlock3D(nn.Module):\n",
    "    \"\"\" Residual block with 3D convolutions  \"\"\"\n",
    "\n",
    "    def __init__(\n",
    "        self,\n",
    "        channels,\n",
    "        emb_channels,\n",
    "        dropout,\n",
    "        out_channels=None,\n",
    "        use_conv=False,\n",
    "        use_scale_shift_norm=False,\n",
    "        use_checkpoint=False,\n",
    "        residual = True,\n",
    "    ):\n",
    "        super().__init__()\n",
    "        self.channels = channels\n",
    "        self.emb_channels = emb_channels\n",
    "        self.dropout = dropout\n",
    "        self.out_channels = out_channels\n",
    "        self.use_conv = use_conv\n",
    "        self.residual = residual\n",
    "        self.use_checkpoint = use_checkpoint\n",
    "        self.use_scale_shift_norm = use_scale_shift_norm\n",
    "        dims = 3\n",
    "\n",
    "        self.in_layers = nn.Sequential(\n",
    "            nn.GroupNorm(4,channels),\n",
    "            SiLU(),\n",
    "            conv_nd(dims, channels, self.out_channels, 3, padding=1),\n",
    "        )\n",
    "        self.emb_layers = nn.Sequential(\n",
    "            SiLU(),\n",
    "            linear(\n",
    "                emb_channels,\n",
    "                2 * self.out_channels if use_scale_shift_norm else self.out_channels,\n",
    "            ),\n",
    "        )\n",
    "        self.out_layers = nn.Sequential(\n",
    "            nn.GroupNorm(4,self.out_channels),\n",
    "            SiLU(),\n",
    "            nn.Dropout(p=dropout),\n",
    "            zero_module(\n",
    "                conv_nd(dims, self.out_channels, self.out_channels, 3, padding=1)\n",
    "            ),\n",
    "        )\n",
    "\n",
    "        if residual:\n",
    "            if self.out_channels == channels:\n",
    "                self.skip_connection = nn.Identity()\n",
    "            elif use_conv:\n",
    "                self.skip_connection = conv_nd(\n",
    "                    dims, channels, self.out_channels, 3, padding=1\n",
    "                )\n",
    "            else:\n",
    "                self.skip_connection = conv_nd(dims, channels, self.out_channels, 1)\n",
    "        else:\n",
    "            self.skip_connection = None\n",
    "\n",
    "    def forward(self, x, emb):\n",
    "        \"\"\"\n",
    "        Apply the block to a Tensor, conditioned on a timestep embedding.\n",
    "\n",
    "        :param x: an [N x C x ...] Tensor of features.\n",
    "        :param emb: an [N x emb_channels] Tensor of timestep embeddings.\n",
    "        :return: an [N x C x ...] Tensor of outputs.\n",
    "        \"\"\"\n",
    "        return checkpoint(\n",
    "            self._forward, (x, emb), self.parameters(), self.use_checkpoint\n",
    "        )\n",
    "\n",
    "    def _forward(self, x, emb):\n",
    "        h = self.in_layers(x)\n",
    "        emb_out = self.emb_layers(emb).type(h.dtype)\n",
    "        while len(emb_out.shape) < len(h.shape):\n",
    "            emb_out = emb_out[..., None]\n",
    "        if self.use_scale_shift_norm:\n",
    "            out_norm, out_rest = self.out_layers[0], self.out_layers[1:]\n",
    "            scale, shift = th.chunk(emb_out, 2, dim=1)\n",
    "            h = out_norm(h) * (1 + scale) + shift\n",
    "            h = out_rest(h)\n",
    "        else:\n",
    "            h = h + emb_out\n",
    "            h = self.out_layers(h)\n",
    "        if self.residual:\n",
    "            h = self.skip_connection(x) + h\n",
    "        return h\n",
    "\n",
    "class Initial3DConvBlock(nn.Module):\n",
    "    def __init__(\n",
    "        self,\n",
    "        emb_channels,\n",
    "        dropout,\n",
    "        channels_3d,\n",
    "        channels_freq,\n",
    "        out_channels,\n",
    "        use_conv=False,\n",
    "        use_scale_shift_norm=False,\n",
    "        use_checkpoint=False,\n",
    "        residual = True,\n",
    "    ):\n",
    "        super().__init__()\n",
    "        self.emb_channels = emb_channels\n",
    "        self.dropout = dropout\n",
    "        self.out_channels = out_channels\n",
    "        self.use_conv = use_conv\n",
    "        self.residual = residual\n",
    "        self.use_checkpoint = use_checkpoint\n",
    "        self.use_scale_shift_norm = use_scale_shift_norm\n",
    "\n",
    "        self.initialConv = conv_nd(3, 1, channels_3d, kernel_size=3, padding=1)\n",
    "        self.resBlock1 = ResBlock3D(\n",
    "            channels = channels_3d,\n",
    "            emb_channels = emb_channels,\n",
    "            dropout = 0,\n",
    "            out_channels = channels_3d,\n",
    "            use_conv = False,\n",
    "            use_scale_shift_norm = True,\n",
    "            use_checkpoint = False,\n",
    "            residual=residual,\n",
    "        )\n",
    "        # self.resBlock2 = ResBlock3D(\n",
    "        #     channels = channels_3d,\n",
    "        #     emb_channels = emb_channels,\n",
    "        #     dropout = 0,\n",
    "        #     out_channels = channels_3d,\n",
    "        #     use_conv = False,\n",
    "        #     use_scale_shift_norm = True,\n",
    "        #     use_checkpoint = False,\n",
    "        #     residual=residual,\n",
    "        # )\n",
    "        self.outConv = conv_nd(2, channels_3d*channels_freq, out_channels, kernel_size=3, padding=1)\n",
    "        \n",
    "\n",
    "\n",
    "    def forward(self,x,emb):\n",
    "        x = x.unsqueeze(1)\n",
    "        x = self.initialConv(x)\n",
    "        x = self.resBlock1(x,emb)\n",
    "        # x = self.resBlock2(x,emb)\n",
    "        b,d,c,h,w = x.shape\n",
    "        x = torch.reshape(x,(b,d*c,h,w))\n",
    "        x =self.outConv(x)\n",
    "        return x"
   ]
  },
  {
   "cell_type": "code",
   "execution_count": 3,
   "metadata": {
    "ExecuteTime": {
     "end_time": "2024-03-15T20:00:03.513452100Z",
     "start_time": "2024-03-15T20:00:02.252307800Z"
    }
   },
   "outputs": [
    {
     "name": "stdout",
     "output_type": "stream",
     "text": [
      "torch.Size([8, 64, 96, 128])\n"
     ]
    }
   ],
   "source": [
    "testBlock = Initial3DConvBlock(\n",
    "    emb_channels = 64*4,\n",
    "    dropout = 0,\n",
    "    channels_3d = 8,\n",
    "    channels_freq = 80,\n",
    "    out_channels = 64,\n",
    "    use_conv=False,\n",
    "    use_scale_shift_norm=True,\n",
    "    use_checkpoint=False,\n",
    "    residual = False,\n",
    ")\n",
    "B = 8\n",
    "C = 80\n",
    "H = 96\n",
    "W = 128\n",
    "x = torch.randn(B,C,H,W)\n",
    "emb = torch.randn(B,64*4)\n",
    "\n",
    "with torch.inference_mode():\n",
    "    y = testBlock(x,emb)\n",
    "    print(y.shape)"
   ]
  },
  {
   "cell_type": "code",
   "execution_count": 4,
   "metadata": {
    "ExecuteTime": {
     "end_time": "2024-03-15T20:00:04.599121Z",
     "start_time": "2024-03-15T20:00:03.511315800Z"
    }
   },
   "outputs": [
    {
     "data": {
      "text/plain": "==========================================================================================\nLayer (type:depth-idx)                   Output Shape              Param #\n==========================================================================================\nInitial3DConvBlock                       [8, 64, 96, 128]          --\n├─Conv3d: 1-1                            [8, 8, 80, 96, 128]       224\n├─ResBlock3D: 1-2                        [8, 8, 80, 96, 128]       --\n│    └─Sequential: 2-1                   [8, 8, 80, 96, 128]       --\n│    │    └─GroupNorm: 3-1               [8, 8, 80, 96, 128]       16\n│    │    └─SiLU: 3-2                    [8, 8, 80, 96, 128]       --\n│    │    └─Conv3d: 3-3                  [8, 8, 80, 96, 128]       1,736\n│    └─Sequential: 2-2                   [8, 16]                   --\n│    │    └─SiLU: 3-4                    [8, 256]                  --\n│    │    └─Linear: 3-5                  [8, 16]                   4,112\n│    └─Sequential: 2-3                   --                        --\n│    │    └─GroupNorm: 3-6               [8, 8, 80, 96, 128]       16\n│    │    └─SiLU: 3-7                    [8, 8, 80, 96, 128]       --\n│    │    └─Dropout: 3-8                 [8, 8, 80, 96, 128]       --\n│    │    └─Conv3d: 3-9                  [8, 8, 80, 96, 128]       1,736\n├─Conv2d: 1-3                            [8, 64, 96, 128]          368,704\n==========================================================================================\nTotal params: 376,544\nTrainable params: 376,544\nNon-trainable params: 0\nTotal mult-adds (G): 65.31\n==========================================================================================\nInput size (MB): 31.47\nForward/backward pass size (MB): 2566.92\nParams size (MB): 1.51\nEstimated Total Size (MB): 2599.89\n=========================================================================================="
     },
     "execution_count": 4,
     "metadata": {},
     "output_type": "execute_result"
    }
   ],
   "source": [
    "from torchinfo import summary\n",
    "summary(testBlock, input_size=[(B,C,H,W), (B,64*4)], dtypes=[torch.float, torch.int])"
   ]
  },
  {
   "cell_type": "code",
   "execution_count": 5,
   "metadata": {
    "ExecuteTime": {
     "end_time": "2024-03-15T20:00:05.634649400Z",
     "start_time": "2024-03-15T20:00:04.595810900Z"
    }
   },
   "outputs": [
    {
     "data": {
      "text/plain": "==========================================================================================\nLayer (type:depth-idx)                   Output Shape              Param #\n==========================================================================================\nUNETv2                                   [8, 1, 96, 128]           --\n├─Sequential: 1-1                        [8, 256]                  --\n│    └─PositionalEncoding: 2-1           [8, 64]                   --\n│    └─Linear: 2-2                       [8, 256]                  16,640\n│    └─SiLU: 2-3                         [8, 256]                  --\n│    └─Linear: 2-4                       [8, 256]                  65,792\n├─Conv2d: 1-2                            [8, 64, 96, 128]          5,184\n├─ResBlock: 1-3                          [8, 64, 96, 128]          --\n│    └─Sequential: 2-5                   [8, 64, 96, 128]          --\n│    │    └─GroupNorm32: 3-1             [8, 64, 96, 128]          128\n│    │    └─SiLU: 3-2                    [8, 64, 96, 128]          --\n│    │    └─Conv2d: 3-3                  [8, 64, 96, 128]          36,928\n│    └─Sequential: 2-6                   [8, 128]                  --\n│    │    └─SiLU: 3-4                    [8, 256]                  --\n│    │    └─Linear: 3-5                  [8, 128]                  32,896\n│    └─Sequential: 2-7                   --                        --\n│    │    └─GroupNorm32: 3-6             [8, 64, 96, 128]          128\n│    │    └─SiLU: 3-7                    [8, 64, 96, 128]          --\n│    │    └─Dropout: 3-8                 [8, 64, 96, 128]          --\n│    │    └─Conv2d: 3-9                  [8, 64, 96, 128]          36,928\n├─MaxPool2d: 1-4                         [8, 64, 48, 64]           --\n├─ModuleList: 1-14                       --                        (recursive)\n│    └─ResBlock: 2-8                     [8, 128, 48, 64]          --\n│    │    └─Sequential: 3-10             [8, 128, 48, 64]          73,984\n│    │    └─Sequential: 3-11             [8, 256]                  65,792\n│    │    └─Sequential: 3-12             --                        147,840\n├─ModuleList: 1-15                       --                        --\n│    └─Identity: 2-9                     [8, 128, 48, 64]          --\n├─MaxPool2d: 1-7                         [8, 128, 24, 32]          --\n├─ModuleList: 1-14                       --                        (recursive)\n│    └─ResBlock: 2-10                    [8, 256, 24, 32]          --\n│    │    └─Sequential: 3-13             [8, 256, 24, 32]          295,424\n│    │    └─Sequential: 3-14             [8, 512]                  131,584\n│    │    └─Sequential: 3-15             --                        590,592\n├─ModuleList: 1-15                       --                        --\n│    └─Identity: 2-11                    [8, 256, 24, 32]          --\n├─MaxPool2d: 1-10                        [8, 256, 12, 16]          --\n├─ModuleList: 1-14                       --                        (recursive)\n│    └─ResBlock: 2-12                    [8, 512, 12, 16]          --\n│    │    └─Sequential: 3-16             [8, 512, 12, 16]          1,180,672\n│    │    └─Sequential: 3-17             [8, 1024]                 263,168\n│    │    └─Sequential: 3-18             --                        2,360,832\n├─ModuleList: 1-15                       --                        --\n│    └─Identity: 2-13                    [8, 512, 12, 16]          --\n├─MaxPool2d: 1-13                        [8, 512, 6, 8]            --\n├─ModuleList: 1-14                       --                        (recursive)\n│    └─ResBlock: 2-14                    [8, 1024, 6, 8]           --\n│    │    └─Sequential: 3-19             [8, 1024, 6, 8]           4,720,640\n│    │    └─Sequential: 3-20             [8, 2048]                 526,336\n│    │    └─Sequential: 3-21             --                        9,440,256\n├─ModuleList: 1-15                       --                        --\n│    └─Identity: 2-15                    [8, 1024, 6, 8]           --\n├─Conv2d: 1-16                           [8, 64, 96, 128]          128\n├─ResBlock: 1-17                         [8, 64, 96, 128]          --\n│    └─Sequential: 2-16                  [8, 64, 96, 128]          --\n│    │    └─GroupNorm32: 3-22            [8, 64, 96, 128]          128\n│    │    └─SiLU: 3-23                   [8, 64, 96, 128]          --\n│    │    └─Conv2d: 3-24                 [8, 64, 96, 128]          36,928\n│    └─Sequential: 2-17                  [8, 128]                  --\n│    │    └─SiLU: 3-25                   [8, 256]                  --\n│    │    └─Linear: 3-26                 [8, 128]                  32,896\n│    └─Sequential: 2-18                  --                        --\n│    │    └─GroupNorm32: 3-27            [8, 64, 96, 128]          128\n│    │    └─SiLU: 3-28                   [8, 64, 96, 128]          --\n│    │    └─Dropout: 3-29                [8, 64, 96, 128]          --\n│    │    └─Conv2d: 3-30                 [8, 64, 96, 128]          36,928\n├─MaxPool2d: 1-18                        [8, 64, 48, 64]           --\n├─ModuleList: 1-28                       --                        (recursive)\n│    └─ResBlock: 2-19                    [8, 128, 48, 64]          --\n│    │    └─Sequential: 3-31             [8, 128, 48, 64]          73,984\n│    │    └─Sequential: 3-32             [8, 256]                  65,792\n│    │    └─Sequential: 3-33             --                        147,840\n├─ModuleList: 1-29                       --                        --\n│    └─Identity: 2-20                    [8, 128, 48, 64]          --\n├─MaxPool2d: 1-21                        [8, 128, 24, 32]          --\n├─ModuleList: 1-28                       --                        (recursive)\n│    └─ResBlock: 2-21                    [8, 256, 24, 32]          --\n│    │    └─Sequential: 3-34             [8, 256, 24, 32]          295,424\n│    │    └─Sequential: 3-35             [8, 512]                  131,584\n│    │    └─Sequential: 3-36             --                        590,592\n├─ModuleList: 1-29                       --                        --\n│    └─Identity: 2-22                    [8, 256, 24, 32]          --\n├─MaxPool2d: 1-24                        [8, 256, 12, 16]          --\n├─ModuleList: 1-28                       --                        (recursive)\n│    └─ResBlock: 2-23                    [8, 512, 12, 16]          --\n│    │    └─Sequential: 3-37             [8, 512, 12, 16]          1,180,672\n│    │    └─Sequential: 3-38             [8, 1024]                 263,168\n│    │    └─Sequential: 3-39             --                        2,360,832\n├─ModuleList: 1-29                       --                        --\n│    └─Identity: 2-24                    [8, 512, 12, 16]          --\n├─MaxPool2d: 1-27                        [8, 512, 6, 8]            --\n├─ModuleList: 1-28                       --                        (recursive)\n│    └─ResBlock: 2-25                    [8, 1024, 6, 8]           --\n│    │    └─Sequential: 3-40             [8, 1024, 6, 8]           4,720,640\n│    │    └─Sequential: 3-41             [8, 2048]                 526,336\n│    │    └─Sequential: 3-42             --                        9,440,256\n├─ModuleList: 1-29                       --                        --\n│    └─Identity: 2-26                    [8, 1024, 6, 8]           --\n├─ModuleList: 1-39                       --                        (recursive)\n│    └─ConvTranspose2d: 2-27             [8, 512, 12, 16]          2,097,664\n├─ModuleList: 1-40                       --                        (recursive)\n│    └─ResBlock: 2-28                    [8, 512, 12, 16]          --\n│    │    └─Sequential: 3-43             [8, 512, 12, 16]          7,081,472\n│    │    └─Sequential: 3-44             [8, 1024]                 263,168\n│    │    └─Sequential: 3-45             --                        2,360,832\n├─ModuleList: 1-41                       --                        --\n│    └─Identity: 2-29                    [8, 512, 12, 16]          --\n├─ModuleList: 1-39                       --                        (recursive)\n│    └─ConvTranspose2d: 2-30             [8, 256, 24, 32]          524,544\n├─ModuleList: 1-40                       --                        (recursive)\n│    └─ResBlock: 2-31                    [8, 256, 24, 32]          --\n│    │    └─Sequential: 3-46             [8, 256, 24, 32]          1,771,264\n│    │    └─Sequential: 3-47             [8, 512]                  131,584\n│    │    └─Sequential: 3-48             --                        590,592\n├─ModuleList: 1-41                       --                        --\n│    └─Identity: 2-32                    [8, 256, 24, 32]          --\n├─ModuleList: 1-39                       --                        (recursive)\n│    └─ConvTranspose2d: 2-33             [8, 128, 48, 64]          131,200\n├─ModuleList: 1-40                       --                        (recursive)\n│    └─ResBlock: 2-34                    [8, 128, 48, 64]          --\n│    │    └─Sequential: 3-49             [8, 128, 48, 64]          443,264\n│    │    └─Sequential: 3-50             [8, 256]                  65,792\n│    │    └─Sequential: 3-51             --                        147,840\n├─ModuleList: 1-41                       --                        --\n│    └─Identity: 2-35                    [8, 128, 48, 64]          --\n├─ModuleList: 1-39                       --                        (recursive)\n│    └─ConvTranspose2d: 2-36             [8, 64, 96, 128]          32,832\n├─ModuleList: 1-40                       --                        (recursive)\n│    └─ResBlock: 2-37                    [8, 64, 96, 128]          --\n│    │    └─Sequential: 3-52             [8, 64, 96, 128]          111,040\n│    │    └─Sequential: 3-53             [8, 128]                  32,896\n│    │    └─Sequential: 3-54             --                        37,056\n├─ModuleList: 1-41                       --                        --\n│    └─Identity: 2-38                    [8, 64, 96, 128]          --\n├─Conv2d: 1-42                           [8, 1, 96, 128]           65\n==========================================================================================\nTotal params: 55,719,105\nTrainable params: 55,719,105\nNon-trainable params: 0\nTotal mult-adds (G): 129.48\n==========================================================================================\nInput size (MB): 31.85\nForward/backward pass size (MB): 1495.67\nParams size (MB): 222.88\nEstimated Total Size (MB): 1750.40\n=========================================================================================="
     },
     "execution_count": 5,
     "metadata": {},
     "output_type": "execute_result"
    }
   ],
   "source": [
    "from modules.model import UNETv2\n",
    "nn_model = UNETv2(in_channels=80, residual=False, attention_res=[])\n",
    "summary(nn_model, input_size=[(B,C,H,W), (B,1,H,W),(B,)], dtypes=[torch.float, torch.float, torch.int])"
   ]
  },
  {
   "cell_type": "code",
   "execution_count": 6,
   "metadata": {
    "ExecuteTime": {
     "end_time": "2024-03-15T20:00:07.486575800Z",
     "start_time": "2024-03-15T20:00:05.636745100Z"
    }
   },
   "outputs": [
    {
     "data": {
      "text/plain": "==========================================================================================\nLayer (type:depth-idx)                   Output Shape              Param #\n==========================================================================================\nUNETv3                                   [8, 1, 96, 128]           --\n├─Sequential: 1-1                        [8, 256]                  --\n│    └─PositionalEncoding: 2-1           [8, 64]                   --\n│    └─Linear: 2-2                       [8, 256]                  16,640\n│    └─SiLU: 2-3                         [8, 256]                  --\n│    └─Linear: 2-4                       [8, 256]                  65,792\n├─Initial3DConvBlock: 1-2                [8, 64, 96, 128]          --\n│    └─Conv3d: 2-5                       [8, 8, 80, 96, 128]       224\n│    └─ResBlock3D: 2-6                   [8, 8, 80, 96, 128]       --\n│    │    └─Sequential: 3-1              [8, 8, 80, 96, 128]       1,752\n│    │    └─Sequential: 3-2              [8, 16]                   4,112\n│    │    └─Sequential: 3-3              --                        1,752\n│    └─Conv2d: 2-7                       [8, 64, 96, 128]          368,704\n├─MaxPool2d: 1-3                         [8, 64, 48, 64]           --\n├─ModuleList: 1-13                       --                        (recursive)\n│    └─ResBlock: 2-8                     [8, 128, 48, 64]          --\n│    │    └─Sequential: 3-4              [8, 128, 48, 64]          73,984\n│    │    └─Sequential: 3-5              [8, 256]                  65,792\n│    │    └─Sequential: 3-6              --                        147,840\n├─ModuleList: 1-14                       --                        --\n│    └─Identity: 2-9                     [8, 128, 48, 64]          --\n├─MaxPool2d: 1-6                         [8, 128, 24, 32]          --\n├─ModuleList: 1-13                       --                        (recursive)\n│    └─ResBlock: 2-10                    [8, 256, 24, 32]          --\n│    │    └─Sequential: 3-7              [8, 256, 24, 32]          295,424\n│    │    └─Sequential: 3-8              [8, 512]                  131,584\n│    │    └─Sequential: 3-9              --                        590,592\n├─ModuleList: 1-14                       --                        --\n│    └─Identity: 2-11                    [8, 256, 24, 32]          --\n├─MaxPool2d: 1-9                         [8, 256, 12, 16]          --\n├─ModuleList: 1-13                       --                        (recursive)\n│    └─ResBlock: 2-12                    [8, 512, 12, 16]          --\n│    │    └─Sequential: 3-10             [8, 512, 12, 16]          1,180,672\n│    │    └─Sequential: 3-11             [8, 1024]                 263,168\n│    │    └─Sequential: 3-12             --                        2,360,832\n├─ModuleList: 1-14                       --                        --\n│    └─Identity: 2-13                    [8, 512, 12, 16]          --\n├─MaxPool2d: 1-12                        [8, 512, 6, 8]            --\n├─ModuleList: 1-13                       --                        (recursive)\n│    └─ResBlock: 2-14                    [8, 1024, 6, 8]           --\n│    │    └─Sequential: 3-13             [8, 1024, 6, 8]           4,720,640\n│    │    └─Sequential: 3-14             [8, 2048]                 526,336\n│    │    └─Sequential: 3-15             --                        9,440,256\n├─ModuleList: 1-14                       --                        --\n│    └─Identity: 2-15                    [8, 1024, 6, 8]           --\n├─Conv2d: 1-15                           [8, 64, 96, 128]          128\n├─ResBlock: 1-16                         [8, 64, 96, 128]          --\n│    └─Sequential: 2-16                  [8, 64, 96, 128]          --\n│    │    └─GroupNorm32: 3-16            [8, 64, 96, 128]          128\n│    │    └─SiLU: 3-17                   [8, 64, 96, 128]          --\n│    │    └─Conv2d: 3-18                 [8, 64, 96, 128]          36,928\n│    └─Sequential: 2-17                  [8, 128]                  --\n│    │    └─SiLU: 3-19                   [8, 256]                  --\n│    │    └─Linear: 3-20                 [8, 128]                  32,896\n│    └─Sequential: 2-18                  --                        --\n│    │    └─GroupNorm32: 3-21            [8, 64, 96, 128]          128\n│    │    └─SiLU: 3-22                   [8, 64, 96, 128]          --\n│    │    └─Dropout: 3-23                [8, 64, 96, 128]          --\n│    │    └─Conv2d: 3-24                 [8, 64, 96, 128]          36,928\n├─MaxPool2d: 1-17                        [8, 64, 48, 64]           --\n├─ModuleList: 1-27                       --                        (recursive)\n│    └─ResBlock: 2-19                    [8, 128, 48, 64]          --\n│    │    └─Sequential: 3-25             [8, 128, 48, 64]          73,984\n│    │    └─Sequential: 3-26             [8, 256]                  65,792\n│    │    └─Sequential: 3-27             --                        147,840\n├─ModuleList: 1-28                       --                        --\n│    └─Identity: 2-20                    [8, 128, 48, 64]          --\n├─MaxPool2d: 1-20                        [8, 128, 24, 32]          --\n├─ModuleList: 1-27                       --                        (recursive)\n│    └─ResBlock: 2-21                    [8, 256, 24, 32]          --\n│    │    └─Sequential: 3-28             [8, 256, 24, 32]          295,424\n│    │    └─Sequential: 3-29             [8, 512]                  131,584\n│    │    └─Sequential: 3-30             --                        590,592\n├─ModuleList: 1-28                       --                        --\n│    └─Identity: 2-22                    [8, 256, 24, 32]          --\n├─MaxPool2d: 1-23                        [8, 256, 12, 16]          --\n├─ModuleList: 1-27                       --                        (recursive)\n│    └─ResBlock: 2-23                    [8, 512, 12, 16]          --\n│    │    └─Sequential: 3-31             [8, 512, 12, 16]          1,180,672\n│    │    └─Sequential: 3-32             [8, 1024]                 263,168\n│    │    └─Sequential: 3-33             --                        2,360,832\n├─ModuleList: 1-28                       --                        --\n│    └─Identity: 2-24                    [8, 512, 12, 16]          --\n├─MaxPool2d: 1-26                        [8, 512, 6, 8]            --\n├─ModuleList: 1-27                       --                        (recursive)\n│    └─ResBlock: 2-25                    [8, 1024, 6, 8]           --\n│    │    └─Sequential: 3-34             [8, 1024, 6, 8]           4,720,640\n│    │    └─Sequential: 3-35             [8, 2048]                 526,336\n│    │    └─Sequential: 3-36             --                        9,440,256\n├─ModuleList: 1-28                       --                        --\n│    └─Identity: 2-26                    [8, 1024, 6, 8]           --\n├─ModuleList: 1-38                       --                        (recursive)\n│    └─ConvTranspose2d: 2-27             [8, 512, 12, 16]          2,097,664\n├─ModuleList: 1-39                       --                        (recursive)\n│    └─ResBlock: 2-28                    [8, 512, 12, 16]          --\n│    │    └─Sequential: 3-37             [8, 512, 12, 16]          7,081,472\n│    │    └─Sequential: 3-38             [8, 1024]                 263,168\n│    │    └─Sequential: 3-39             --                        2,360,832\n├─ModuleList: 1-40                       --                        --\n│    └─Identity: 2-29                    [8, 512, 12, 16]          --\n├─ModuleList: 1-38                       --                        (recursive)\n│    └─ConvTranspose2d: 2-30             [8, 256, 24, 32]          524,544\n├─ModuleList: 1-39                       --                        (recursive)\n│    └─ResBlock: 2-31                    [8, 256, 24, 32]          --\n│    │    └─Sequential: 3-40             [8, 256, 24, 32]          1,771,264\n│    │    └─Sequential: 3-41             [8, 512]                  131,584\n│    │    └─Sequential: 3-42             --                        590,592\n├─ModuleList: 1-40                       --                        --\n│    └─Identity: 2-32                    [8, 256, 24, 32]          --\n├─ModuleList: 1-38                       --                        (recursive)\n│    └─ConvTranspose2d: 2-33             [8, 128, 48, 64]          131,200\n├─ModuleList: 1-39                       --                        (recursive)\n│    └─ResBlock: 2-34                    [8, 128, 48, 64]          --\n│    │    └─Sequential: 3-43             [8, 128, 48, 64]          443,264\n│    │    └─Sequential: 3-44             [8, 256]                  65,792\n│    │    └─Sequential: 3-45             --                        147,840\n├─ModuleList: 1-40                       --                        --\n│    └─Identity: 2-35                    [8, 128, 48, 64]          --\n├─ModuleList: 1-38                       --                        (recursive)\n│    └─ConvTranspose2d: 2-36             [8, 64, 96, 128]          32,832\n├─ModuleList: 1-39                       --                        (recursive)\n│    └─ResBlock: 2-37                    [8, 64, 96, 128]          --\n│    │    └─Sequential: 3-46             [8, 64, 96, 128]          111,040\n│    │    └─Sequential: 3-47             [8, 128]                  32,896\n│    │    └─Sequential: 3-48             --                        37,056\n├─ModuleList: 1-40                       --                        --\n│    └─Identity: 2-38                    [8, 64, 96, 128]          --\n├─Conv2d: 1-41                           [8, 1, 96, 128]           65\n==========================================================================================\nTotal params: 55,983,457\nTrainable params: 55,983,457\nNon-trainable params: 0\nTotal mult-adds (G): 187.02\n==========================================================================================\nInput size (MB): 31.85\nForward/backward pass size (MB): 3810.92\nParams size (MB): 223.93\nEstimated Total Size (MB): 4066.70\n=========================================================================================="
     },
     "execution_count": 6,
     "metadata": {},
     "output_type": "execute_result"
    }
   ],
   "source": [
    "from modules.model import UNETv3\n",
    "nn_model = UNETv3(in_channels=80, residual=False, attention_res=[])\n",
    "summary(nn_model, input_size=[(B,C,H,W), (B,1,H,W),(B,)], dtypes=[torch.float, torch.float, torch.int])"
   ]
  },
  {
   "cell_type": "code",
   "execution_count": 6,
   "outputs": [],
   "source": [],
   "metadata": {
    "collapsed": false,
    "ExecuteTime": {
     "end_time": "2024-03-15T20:00:07.513086200Z",
     "start_time": "2024-03-15T20:00:07.487601300Z"
    }
   }
  }
 ],
 "metadata": {
  "kernelspec": {
   "display_name": "Python 3",
   "language": "python",
   "name": "python3"
  },
  "language_info": {
   "codemirror_mode": {
    "name": "ipython",
    "version": 3
   },
   "file_extension": ".py",
   "mimetype": "text/x-python",
   "name": "python",
   "nbconvert_exporter": "python",
   "pygments_lexer": "ipython3",
   "version": "3.11.8"
  }
 },
 "nbformat": 4,
 "nbformat_minor": 2
}
